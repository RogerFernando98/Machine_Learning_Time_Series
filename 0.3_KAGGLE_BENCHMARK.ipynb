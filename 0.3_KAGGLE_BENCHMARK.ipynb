{
 "cells": [
  {
   "cell_type": "markdown",
   "id": "d5f6699e",
   "metadata": {
    "papermill": {
     "duration": 0.018262,
     "end_time": "2022-12-25T18:21:13.031571",
     "exception": false,
     "start_time": "2022-12-25T18:21:13.013309",
     "status": "completed"
    },
    "tags": []
   },
   "source": [
    "### Objetivos del notebook\n",
    "---\n",
    "En el presente notebook vamos a aprender a utilizar el algoritmo de XGBoost para trabajar con Series Temporales.\n",
    "\n",
    "[XGBoost](https://xgboost.readthedocs.io/en/stable/) es una implementación muy popular del [Gradient Boosting](https://interactivechaos.com/es/manual/tutorial-de-machine-learning/gradient-boosting) y se ha convertido **\"de facto\"** en el benchmark a batir para datos tabulares.\n",
    "\n",
    "A pesar de tener sus carencias para problemas de Series Temporales (por ejemplo: no es capaz de extrapolar una tendencia), el algoritmo es muy versátil y todo Data Scientist debe conocerlo. \n",
    "\n",
    "El dataset con el que vamos a trabajar en este notebook contiene un total de **426 Series Temporales** que abarcan el periodo Enero'2013 - Septiembre'2015. Por tanto vamos a trabajar con **Series Temporales Multivariante**.\n",
    "\n",
    "Cada una de estas **Series Temporales** representan las ventas <u>**MENSUALES**</u> de **un artículo en un tienda y ciudad**. El objetivo es predecir las <u>**VENTAS TOTALES DEL MES DE OCTUBRE'2015**</u>.\n",
    "\n",
    "Al final del notebook, el alumno debe estar familiarizado con:\n",
    "\n",
    "1. **La importancia de establecer un benchmark (CORE IDEA)** cuando empezamos a trabajar en un problema de Machine Learning. <br>\n",
    "2. Saber utilizar **pandas de forma eficiente para manipular el dataset (resample de pandas, groupby etc).** <br>\n",
    "3. **Combinar la información de diferentes Series Temporales para generar variables (ventas totales de un artículo, ventas totales de todos los artículos en una tienda) con las que alimentar nuestro modelo XGBoost (CORE IDEA).**<br>\n",
    "4. **Saber identificar las variables autoexplicativas (COREA IDEA)** y sus principales causas.<br>\n",
    "5. Comprender **la importancia de iterar rápido (realizar muchos experimentos) (CORE IDEA)** para testear diferentes hipótesis y variables que se construyen.\n",
    "\n",
    "---\n",
    "\n",
    "El presente notebook contiene muchas funcionalidades avanzadas que puede requerir varias lecturas para su comprensión.\n",
    "Pensamos que las secciones marcadas con **CORE IDEA** son las que mayor beneficio le reportarán al alumno. Por este motivo, le animamos a que dedique especial atención a estas ideas.\n",
    "\n",
    "Al final del notebook, hay un sección de referencias y lecturas recomendables para que el alumno pueda seguir profundizando en estos conceptos.\n",
    "\n",
    "---"
   ]
  },
  {
   "cell_type": "markdown",
   "id": "5ee805a5",
   "metadata": {
    "papermill": {
     "duration": 0.016343,
     "end_time": "2022-12-25T18:21:13.064692",
     "exception": false,
     "start_time": "2022-12-25T18:21:13.048349",
     "status": "completed"
    },
    "tags": []
   },
   "source": [
    "<a id='index'></a>\n",
    "### Índice\n",
    "\n",
    "[Imports del notebook](#imports_notebook)<br>\n",
    "[Data Loading](#data_load)<br>\n",
    "[La idea del Benchmark (**CORE IDEA**)](#benchmark)<br>\n",
    "[Data Imputation](#impute)<br>\n",
    "[EDA](#eda)<br>\n",
    "[--> 1. EDA: Global Sales](#eda_global_sales)<br>\n",
    "[--> 2. EDA: Top 3 Cities](#eda_top_3_cities)<br>\n",
    "[--> 3. EDA: Top 3 Categories](#eda_top_3_categories)<br>\n",
    "[Build Time Series Features (**CORE IDEA**)](#build_ts_features)<br>\n",
    "[Join TS Features](#join_ts_features)<br>\n",
    "[Train Test Split](#train_test_split)<br>\n",
    "[Model Train](#model_train)<br>\n",
    "[Model Evaluation (**COREA IDEA**)](#model_evaluation)<br>\n",
    "[Prediction](#prediction)<br>\n",
    "\n",
    "### Conclusión\n",
    "[Conclusión](#conclusion)<br>\n",
    "\n",
    "### Referencias\n",
    "[Referencias y lecturas recomendables](#referencias)<br>"
   ]
  },
  {
   "cell_type": "markdown",
   "id": "bbf4dee1",
   "metadata": {
    "papermill": {
     "duration": 0.016159,
     "end_time": "2022-12-25T18:21:13.097766",
     "exception": false,
     "start_time": "2022-12-25T18:21:13.081607",
     "status": "completed"
    },
    "tags": []
   },
   "source": [
    "<a id='imports_notebook'></a>\n",
    "### Imports del notebook\n",
    "[Volver al índice](#index)\n",
    "\n",
    "En este apartado hacemos los principales imports del notebook.<br>\n",
    "Sobre todo vamos a trabajar con **numpy**, **pandas**, **statsmodels** y **XGBoost**."
   ]
  },
  {
   "cell_type": "code",
   "execution_count": 1,
   "id": "4e242cfb",
   "metadata": {},
   "outputs": [],
   "source": [
    "import os\n",
    "\n",
    "import pandas as pd\n",
    "import xgboost as xgb"
   ]
  },
  {
   "cell_type": "code",
   "execution_count": 2,
   "id": "722bdbf8",
   "metadata": {},
   "outputs": [
    {
     "name": "stdout",
     "output_type": "stream",
     "text": [
      "pandas version: 2.2.1\n",
      "xgboost version: 2.0.3\n"
     ]
    }
   ],
   "source": [
    "print(f\"pandas version: {pd.__version__}\")\n",
    "print(f\"xgboost version: {xgb.__version__}\")"
   ]
  },
  {
   "cell_type": "code",
   "execution_count": 3,
   "id": "63c67172",
   "metadata": {},
   "outputs": [],
   "source": [
    "# if pd.__version__ != \"1.5.1\":\n",
    "#     os.system(\"pip install pandas==1.5.1\")"
   ]
  },
  {
   "cell_type": "code",
   "execution_count": 4,
   "id": "73ddd751",
   "metadata": {},
   "outputs": [],
   "source": [
    "# if xgb.__version__ != \"1.3.3\":\n",
    "#     os.system(\"pip install xgboost==1.3.3\")"
   ]
  },
  {
   "cell_type": "code",
   "execution_count": 2,
   "id": "707e81f5",
   "metadata": {
    "execution": {
     "iopub.execute_input": "2022-12-25T18:21:13.133191Z",
     "iopub.status.busy": "2022-12-25T18:21:13.132402Z",
     "iopub.status.idle": "2022-12-25T18:21:14.327960Z",
     "shell.execute_reply": "2022-12-25T18:21:14.326955Z"
    },
    "papermill": {
     "duration": 1.216477,
     "end_time": "2022-12-25T18:21:14.330740",
     "exception": false,
     "start_time": "2022-12-25T18:21:13.114263",
     "status": "completed"
    },
    "tags": []
   },
   "outputs": [],
   "source": [
    "import pickle\n",
    "import os\n",
    "\n",
    "from datetime import datetime\n",
    "import pandas as pd\n",
    "import numpy as np\n",
    "\n",
    "import matplotlib.pyplot as plt\n",
    "%matplotlib inline\n",
    "\n",
    "from sklearn.metrics import mean_squared_error\n",
    "from sklearn.preprocessing import OrdinalEncoder\n",
    "\n",
    "import xgboost as xgb\n",
    "\n",
    "from statsmodels.graphics.tsaplots import plot_acf, plot_pacf"
   ]
  },
  {
   "cell_type": "code",
   "execution_count": 6,
   "id": "7a8730e3",
   "metadata": {},
   "outputs": [],
   "source": [
    "# from google.colab import drive\n",
    "# drive.mount('/content/drive')"
   ]
  },
  {
   "cell_type": "code",
   "execution_count": 7,
   "id": "9b14e281",
   "metadata": {},
   "outputs": [],
   "source": [
    "# ! pip install xgboost==1.3.3"
   ]
  },
  {
   "cell_type": "code",
   "execution_count": 8,
   "id": "3a1b2c41",
   "metadata": {},
   "outputs": [],
   "source": [
    "# if xgb.__version__ != \"1.3.3\":\n",
    "#     os.system(\"pip install xgboost==1.3.3\")"
   ]
  },
  {
   "cell_type": "code",
   "execution_count": 9,
   "id": "97219cf7",
   "metadata": {
    "execution": {
     "iopub.execute_input": "2022-12-25T18:21:14.369241Z",
     "iopub.status.busy": "2022-12-25T18:21:14.368501Z",
     "iopub.status.idle": "2022-12-25T18:21:14.374207Z",
     "shell.execute_reply": "2022-12-25T18:21:14.373416Z"
    },
    "papermill": {
     "duration": 0.026616,
     "end_time": "2022-12-25T18:21:14.377081",
     "exception": false,
     "start_time": "2022-12-25T18:21:14.350465",
     "status": "completed"
    },
    "tags": []
   },
   "outputs": [
    {
     "name": "stdout",
     "output_type": "stream",
     "text": [
      "Working with these versions of libraries\n",
      "\n",
      "--------------------------------------------------\n",
      "Numpy version 1.26.4\n",
      "Pandas version 2.2.1\n",
      "XGBoost version 2.0.3\n"
     ]
    }
   ],
   "source": [
    "print(\"Working with these versions of libraries\\n\")\n",
    "print(\"-\"*50)\n",
    "print(f\"Numpy version {np.__version__}\")\n",
    "print(f\"Pandas version {pd.__version__}\")\n",
    "print(f\"XGBoost version {xgb.__version__}\")"
   ]
  },
  {
   "cell_type": "code",
   "execution_count": 3,
   "id": "a250f195",
   "metadata": {
    "execution": {
     "iopub.execute_input": "2022-12-25T18:21:14.412091Z",
     "iopub.status.busy": "2022-12-25T18:21:14.411655Z",
     "iopub.status.idle": "2022-12-25T18:21:14.417921Z",
     "shell.execute_reply": "2022-12-25T18:21:14.416743Z"
    },
    "papermill": {
     "duration": 0.026513,
     "end_time": "2022-12-25T18:21:14.420213",
     "exception": false,
     "start_time": "2022-12-25T18:21:14.393700",
     "status": "completed"
    },
    "tags": []
   },
   "outputs": [],
   "source": [
    "CWD = os.getcwd()\n",
    "DATA_PATH = os.path.join(CWD, \"C:/Users/Herre/Desktop/Nico/TIME SERIES/data\")\n",
    "\n",
    "# DATA_PATH = \"\"\n",
    "\n",
    "FILE_NAME = \"ts_kaggle_train.csv\"\n",
    "TRAIN_CSV_PATH = os.path.join(DATA_PATH, FILE_NAME)"
   ]
  },
  {
   "cell_type": "markdown",
   "id": "30253d6d",
   "metadata": {
    "papermill": {
     "duration": 0.016465,
     "end_time": "2022-12-25T18:21:14.571678",
     "exception": false,
     "start_time": "2022-12-25T18:21:14.555213",
     "status": "completed"
    },
    "tags": []
   },
   "source": [
    "<a id='data_load'></a>\n",
    "### Data Loading\n",
    "[Volver al índice](#index)\n",
    "\n",
    "Vamos a cargar nuestro dataset para comenzar con el EDA."
   ]
  },
  {
   "cell_type": "code",
   "execution_count": 4,
   "id": "fd354680",
   "metadata": {
    "execution": {
     "iopub.execute_input": "2022-12-25T18:21:14.607033Z",
     "iopub.status.busy": "2022-12-25T18:21:14.606316Z",
     "iopub.status.idle": "2022-12-25T18:21:15.109913Z",
     "shell.execute_reply": "2022-12-25T18:21:15.108842Z"
    },
    "papermill": {
     "duration": 0.524399,
     "end_time": "2022-12-25T18:21:15.112681",
     "exception": false,
     "start_time": "2022-12-25T18:21:14.588282",
     "status": "completed"
    },
    "tags": []
   },
   "outputs": [
    {
     "data": {
      "text/html": [
       "<div>\n",
       "<style scoped>\n",
       "    .dataframe tbody tr th:only-of-type {\n",
       "        vertical-align: middle;\n",
       "    }\n",
       "\n",
       "    .dataframe tbody tr th {\n",
       "        vertical-align: top;\n",
       "    }\n",
       "\n",
       "    .dataframe thead th {\n",
       "        text-align: right;\n",
       "    }\n",
       "</style>\n",
       "<table border=\"1\" class=\"dataframe\">\n",
       "  <thead>\n",
       "    <tr style=\"text-align: right;\">\n",
       "      <th></th>\n",
       "      <th>date</th>\n",
       "      <th>unique_id</th>\n",
       "      <th>city_id</th>\n",
       "      <th>shop_id</th>\n",
       "      <th>item_category_id</th>\n",
       "      <th>item_id</th>\n",
       "      <th>monthly_average_price</th>\n",
       "      <th>monthly_sales</th>\n",
       "    </tr>\n",
       "  </thead>\n",
       "  <tbody>\n",
       "    <tr>\n",
       "      <th>8045</th>\n",
       "      <td>2015-08-31</td>\n",
       "      <td>31_2607</td>\n",
       "      <td>7</td>\n",
       "      <td>31</td>\n",
       "      <td>55</td>\n",
       "      <td>2607</td>\n",
       "      <td>299.0</td>\n",
       "      <td>2.0</td>\n",
       "    </tr>\n",
       "    <tr>\n",
       "      <th>14482</th>\n",
       "      <td>2015-10-31</td>\n",
       "      <td>7_7856</td>\n",
       "      <td>21</td>\n",
       "      <td>7</td>\n",
       "      <td>28</td>\n",
       "      <td>7856</td>\n",
       "      <td>NaN</td>\n",
       "      <td>NaN</td>\n",
       "    </tr>\n",
       "    <tr>\n",
       "      <th>1162</th>\n",
       "      <td>2013-06-30</td>\n",
       "      <td>18_5823</td>\n",
       "      <td>5</td>\n",
       "      <td>18</td>\n",
       "      <td>35</td>\n",
       "      <td>5823</td>\n",
       "      <td>2599.0</td>\n",
       "      <td>2.0</td>\n",
       "    </tr>\n",
       "    <tr>\n",
       "      <th>11173</th>\n",
       "      <td>2015-05-31</td>\n",
       "      <td>52_5822</td>\n",
       "      <td>18</td>\n",
       "      <td>52</td>\n",
       "      <td>35</td>\n",
       "      <td>5822</td>\n",
       "      <td>1149.0</td>\n",
       "      <td>4.0</td>\n",
       "    </tr>\n",
       "    <tr>\n",
       "      <th>1545</th>\n",
       "      <td>2014-02-28</td>\n",
       "      <td>19_20949</td>\n",
       "      <td>6</td>\n",
       "      <td>19</td>\n",
       "      <td>71</td>\n",
       "      <td>20949</td>\n",
       "      <td>5.0</td>\n",
       "      <td>30.0</td>\n",
       "    </tr>\n",
       "  </tbody>\n",
       "</table>\n",
       "</div>"
      ],
      "text/plain": [
       "             date unique_id  city_id  shop_id  item_category_id  item_id  \\\n",
       "8045   2015-08-31   31_2607        7       31                55     2607   \n",
       "14482  2015-10-31    7_7856       21        7                28     7856   \n",
       "1162   2013-06-30   18_5823        5       18                35     5823   \n",
       "11173  2015-05-31   52_5822       18       52                35     5822   \n",
       "1545   2014-02-28  19_20949        6       19                71    20949   \n",
       "\n",
       "       monthly_average_price  monthly_sales  \n",
       "8045                   299.0            2.0  \n",
       "14482                    NaN            NaN  \n",
       "1162                  2599.0            2.0  \n",
       "11173                 1149.0            4.0  \n",
       "1545                     5.0           30.0  "
      ]
     },
     "execution_count": 4,
     "metadata": {},
     "output_type": "execute_result"
    }
   ],
   "source": [
    "df = pd.read_csv(TRAIN_CSV_PATH, index_col = 0)\n",
    "df.sample(5)"
   ]
  },
  {
   "cell_type": "markdown",
   "id": "6702832f",
   "metadata": {
    "papermill": {
     "duration": 0.016484,
     "end_time": "2022-12-25T18:21:15.146194",
     "exception": false,
     "start_time": "2022-12-25T18:21:15.129710",
     "status": "completed"
    },
    "tags": []
   },
   "source": [
    "Vamos a ver que tipo de datos tenemos en nuestro dataset."
   ]
  },
  {
   "cell_type": "code",
   "execution_count": 5,
   "id": "2a262ea8",
   "metadata": {
    "execution": {
     "iopub.execute_input": "2022-12-25T18:21:15.181696Z",
     "iopub.status.busy": "2022-12-25T18:21:15.181331Z",
     "iopub.status.idle": "2022-12-25T18:21:15.218402Z",
     "shell.execute_reply": "2022-12-25T18:21:15.217195Z"
    },
    "papermill": {
     "duration": 0.057916,
     "end_time": "2022-12-25T18:21:15.221101",
     "exception": false,
     "start_time": "2022-12-25T18:21:15.163185",
     "status": "completed"
    },
    "tags": []
   },
   "outputs": [
    {
     "name": "stdout",
     "output_type": "stream",
     "text": [
      "<class 'pandas.core.frame.DataFrame'>\n",
      "Index: 14484 entries, 0 to 14483\n",
      "Data columns (total 8 columns):\n",
      " #   Column                 Non-Null Count  Dtype  \n",
      "---  ------                 --------------  -----  \n",
      " 0   date                   14484 non-null  object \n",
      " 1   unique_id              14484 non-null  object \n",
      " 2   city_id                14484 non-null  int64  \n",
      " 3   shop_id                14484 non-null  int64  \n",
      " 4   item_category_id       14484 non-null  int64  \n",
      " 5   item_id                14484 non-null  int64  \n",
      " 6   monthly_average_price  13262 non-null  float64\n",
      " 7   monthly_sales          13756 non-null  float64\n",
      "dtypes: float64(2), int64(4), object(2)\n",
      "memory usage: 1018.4+ KB\n"
     ]
    }
   ],
   "source": [
    "df.info()"
   ]
  },
  {
   "cell_type": "code",
   "execution_count": 6,
   "id": "ced9d686",
   "metadata": {},
   "outputs": [],
   "source": [
    "df[\"date\"] = pd.to_datetime(df[\"date\"], format = \"%Y-%m-%d\")"
   ]
  },
  {
   "cell_type": "markdown",
   "id": "e47f8dae",
   "metadata": {
    "papermill": {
     "duration": 0.016638,
     "end_time": "2022-12-25T18:21:15.254702",
     "exception": false,
     "start_time": "2022-12-25T18:21:15.238064",
     "status": "completed"
    },
    "tags": []
   },
   "source": [
    "<a id='benchmark'></a>\n",
    "### La idea del Benchmark (CORE IDEA)\n",
    "[Volver al índice](#index)"
   ]
  },
  {
   "cell_type": "markdown",
   "id": "24ffecbf",
   "metadata": {
    "papermill": {
     "duration": 0.016615,
     "end_time": "2022-12-25T18:21:15.288404",
     "exception": false,
     "start_time": "2022-12-25T18:21:15.271789",
     "status": "completed"
    },
    "tags": []
   },
   "source": [
    "En el presente notebook buscamos establecer un benchmark rápido. \n",
    "\n",
    "El motivo fundamental es porque los datasets en la vida real son muy complejos y no tenemos el \"lujo\" de poder analizar todas y cada una de las variables <u>**ANTES DE ENTRENAR NUESTRO PRIMER MODELO.</u>**\n",
    "\n",
    "Establecer un benchmark nos ayuda a entender cual es el punto de partida, es decir: <u>**cual es el score mínimo para este dataset.**</u>\n",
    "\n",
    "Muchas veces este benchmark puede ser un modelo entrenado con unas pocas columnas númericas (imputando los nulos con la media). <u>**No se trata de tener el mejor modelo sino de entrenar nuestro primer modelo.**</u> \n",
    "\n",
    "Una vez sabemos cual es el punto de partida y tenemos un notebook **\"funcional\"** podemos empezar a experimentar con nuestro dataset. Por **\"notebook funcional\"** entendemos un script/notebook que podemos ejecutar en su totalidad (loading del dataset, preprocessing, train_test_split, train y predict). En cada experimento iremos añadiendo nuevas variables, diferentes imputaciones, modelos y vamos guardando el score que obtenemos. De este manera, podemos ver la contribución de cada variables y comprobar si estamos mejorando o no respecto al benchmark.\n",
    "\n",
    "Dado que este notebook es un benchmark, tenemos que **\"acotar\"** muy bien las cosas que vamos a implementar (para no irnos por las ramas).\n",
    "\n",
    "A **grosso modo** vamos a hacer las siguientes cosas:\n",
    "\n",
    "1. Tratar los nulos.\n",
    "1. Realizar un pequeño EDA sobre el dataset.\n",
    "1. Crear algunas variables rápidas para el entrenamiento.\n",
    "1. Entrenar el algoritmo.\n",
    "1. Evaluar el modelo.\n",
    "1. Hacer el submit a Kaggle.\n",
    "\n",
    "Empecemos:"
   ]
  },
  {
   "cell_type": "markdown",
   "id": "f478f852",
   "metadata": {
    "execution": {
     "iopub.execute_input": "2022-12-22T22:32:00.326712Z",
     "iopub.status.busy": "2022-12-22T22:32:00.326289Z",
     "iopub.status.idle": "2022-12-22T22:32:00.341842Z",
     "shell.execute_reply": "2022-12-22T22:32:00.340543Z",
     "shell.execute_reply.started": "2022-12-22T22:32:00.326673Z"
    },
    "papermill": {
     "duration": 0.016523,
     "end_time": "2022-12-25T18:21:15.321776",
     "exception": false,
     "start_time": "2022-12-25T18:21:15.305253",
     "status": "completed"
    },
    "tags": []
   },
   "source": [
    "Tenemos un total de 426 Series Temporales en el dataset:"
   ]
  },
  {
   "cell_type": "code",
   "execution_count": 7,
   "id": "64638d2b",
   "metadata": {
    "execution": {
     "iopub.execute_input": "2022-12-25T18:21:15.357311Z",
     "iopub.status.busy": "2022-12-25T18:21:15.356920Z",
     "iopub.status.idle": "2022-12-25T18:21:15.369865Z",
     "shell.execute_reply": "2022-12-25T18:21:15.369027Z"
    },
    "papermill": {
     "duration": 0.033397,
     "end_time": "2022-12-25T18:21:15.372007",
     "exception": false,
     "start_time": "2022-12-25T18:21:15.338610",
     "status": "completed"
    },
    "tags": []
   },
   "outputs": [
    {
     "data": {
      "text/plain": [
       "426"
      ]
     },
     "execution_count": 7,
     "metadata": {},
     "output_type": "execute_result"
    }
   ],
   "source": [
    "df[\"unique_id\"].nunique()"
   ]
  },
  {
   "cell_type": "markdown",
   "id": "8b4608a8",
   "metadata": {
    "papermill": {
     "duration": 0.016732,
     "end_time": "2022-12-25T18:21:15.405908",
     "exception": false,
     "start_time": "2022-12-25T18:21:15.389176",
     "status": "completed"
    },
    "tags": []
   },
   "source": [
    "Veamos cuales son las fechas min y max de nuestro dataset:"
   ]
  },
  {
   "cell_type": "code",
   "execution_count": 8,
   "id": "41e5fa23",
   "metadata": {
    "execution": {
     "iopub.execute_input": "2022-12-25T18:21:15.446890Z",
     "iopub.status.busy": "2022-12-25T18:21:15.446139Z",
     "iopub.status.idle": "2022-12-25T18:21:15.452067Z",
     "shell.execute_reply": "2022-12-25T18:21:15.451154Z"
    },
    "papermill": {
     "duration": 0.029077,
     "end_time": "2022-12-25T18:21:15.454358",
     "exception": false,
     "start_time": "2022-12-25T18:21:15.425281",
     "status": "completed"
    },
    "tags": []
   },
   "outputs": [],
   "source": [
    "MIN_DATE = df[\"date\"].min()\n",
    "MAX_DATE = df[\"date\"].max()"
   ]
  },
  {
   "cell_type": "code",
   "execution_count": 9,
   "id": "300bd8a9",
   "metadata": {
    "execution": {
     "iopub.execute_input": "2022-12-25T18:21:15.504473Z",
     "iopub.status.busy": "2022-12-25T18:21:15.503672Z",
     "iopub.status.idle": "2022-12-25T18:21:15.511147Z",
     "shell.execute_reply": "2022-12-25T18:21:15.509356Z"
    },
    "papermill": {
     "duration": 0.03653,
     "end_time": "2022-12-25T18:21:15.513883",
     "exception": false,
     "start_time": "2022-12-25T18:21:15.477353",
     "status": "completed"
    },
    "tags": []
   },
   "outputs": [
    {
     "name": "stdout",
     "output_type": "stream",
     "text": [
      "Min date is 2013-01-31 00:00:00\n",
      "Max date is 2015-10-31 00:00:00\n"
     ]
    }
   ],
   "source": [
    "print(f\"Min date is {MIN_DATE}\\nMax date is {MAX_DATE}\")"
   ]
  },
  {
   "cell_type": "code",
   "execution_count": 10,
   "id": "7ef736c5",
   "metadata": {},
   "outputs": [
    {
     "data": {
      "text/plain": [
       "date                        0\n",
       "unique_id                   0\n",
       "city_id                     0\n",
       "shop_id                     0\n",
       "item_category_id            0\n",
       "item_id                     0\n",
       "monthly_average_price    1222\n",
       "monthly_sales             728\n",
       "dtype: int64"
      ]
     },
     "execution_count": 10,
     "metadata": {},
     "output_type": "execute_result"
    }
   ],
   "source": [
    "df.isnull().sum()"
   ]
  },
  {
   "cell_type": "markdown",
   "id": "047e0ab1",
   "metadata": {
    "papermill": {
     "duration": 0.02233,
     "end_time": "2022-12-25T18:21:22.049371",
     "exception": false,
     "start_time": "2022-12-25T18:21:22.027041",
     "status": "completed"
    },
    "tags": []
   },
   "source": [
    "<a id='impute'></a>\n",
    "### Data Imputation\n",
    "[Volver al índice](#index)<br>"
   ]
  },
  {
   "cell_type": "code",
   "execution_count": 11,
   "id": "58857c4c",
   "metadata": {},
   "outputs": [],
   "source": [
    "sample_ts = \"31_4249\""
   ]
  },
  {
   "cell_type": "code",
   "execution_count": 12,
   "id": "a84fc5e1",
   "metadata": {},
   "outputs": [
    {
     "data": {
      "text/html": [
       "<div>\n",
       "<style scoped>\n",
       "    .dataframe tbody tr th:only-of-type {\n",
       "        vertical-align: middle;\n",
       "    }\n",
       "\n",
       "    .dataframe tbody tr th {\n",
       "        vertical-align: top;\n",
       "    }\n",
       "\n",
       "    .dataframe thead th {\n",
       "        text-align: right;\n",
       "    }\n",
       "</style>\n",
       "<table border=\"1\" class=\"dataframe\">\n",
       "  <thead>\n",
       "    <tr style=\"text-align: right;\">\n",
       "      <th></th>\n",
       "      <th>date</th>\n",
       "      <th>unique_id</th>\n",
       "      <th>city_id</th>\n",
       "      <th>shop_id</th>\n",
       "      <th>item_category_id</th>\n",
       "      <th>item_id</th>\n",
       "      <th>monthly_average_price</th>\n",
       "      <th>monthly_sales</th>\n",
       "    </tr>\n",
       "  </thead>\n",
       "  <tbody>\n",
       "    <tr>\n",
       "      <th>5666</th>\n",
       "      <td>2013-01-31</td>\n",
       "      <td>31_4249</td>\n",
       "      <td>7</td>\n",
       "      <td>31</td>\n",
       "      <td>23</td>\n",
       "      <td>4249</td>\n",
       "      <td>1899.000000</td>\n",
       "      <td>2.0</td>\n",
       "    </tr>\n",
       "    <tr>\n",
       "      <th>5743</th>\n",
       "      <td>2013-02-28</td>\n",
       "      <td>31_4249</td>\n",
       "      <td>7</td>\n",
       "      <td>31</td>\n",
       "      <td>23</td>\n",
       "      <td>4249</td>\n",
       "      <td>1599.000000</td>\n",
       "      <td>5.0</td>\n",
       "    </tr>\n",
       "    <tr>\n",
       "      <th>5820</th>\n",
       "      <td>2013-03-31</td>\n",
       "      <td>31_4249</td>\n",
       "      <td>7</td>\n",
       "      <td>31</td>\n",
       "      <td>23</td>\n",
       "      <td>4249</td>\n",
       "      <td>1013.416000</td>\n",
       "      <td>6.0</td>\n",
       "    </tr>\n",
       "    <tr>\n",
       "      <th>5897</th>\n",
       "      <td>2013-04-30</td>\n",
       "      <td>31_4249</td>\n",
       "      <td>7</td>\n",
       "      <td>31</td>\n",
       "      <td>23</td>\n",
       "      <td>4249</td>\n",
       "      <td>1598.900000</td>\n",
       "      <td>10.0</td>\n",
       "    </tr>\n",
       "    <tr>\n",
       "      <th>5974</th>\n",
       "      <td>2013-05-31</td>\n",
       "      <td>31_4249</td>\n",
       "      <td>7</td>\n",
       "      <td>31</td>\n",
       "      <td>23</td>\n",
       "      <td>4249</td>\n",
       "      <td>1598.937500</td>\n",
       "      <td>8.0</td>\n",
       "    </tr>\n",
       "    <tr>\n",
       "      <th>6051</th>\n",
       "      <td>2013-06-30</td>\n",
       "      <td>31_4249</td>\n",
       "      <td>7</td>\n",
       "      <td>31</td>\n",
       "      <td>23</td>\n",
       "      <td>4249</td>\n",
       "      <td>1599.000000</td>\n",
       "      <td>4.0</td>\n",
       "    </tr>\n",
       "    <tr>\n",
       "      <th>6128</th>\n",
       "      <td>2013-07-31</td>\n",
       "      <td>31_4249</td>\n",
       "      <td>7</td>\n",
       "      <td>31</td>\n",
       "      <td>23</td>\n",
       "      <td>4249</td>\n",
       "      <td>1399.000000</td>\n",
       "      <td>4.0</td>\n",
       "    </tr>\n",
       "    <tr>\n",
       "      <th>6205</th>\n",
       "      <td>2013-08-31</td>\n",
       "      <td>31_4249</td>\n",
       "      <td>7</td>\n",
       "      <td>31</td>\n",
       "      <td>23</td>\n",
       "      <td>4249</td>\n",
       "      <td>1599.000000</td>\n",
       "      <td>2.0</td>\n",
       "    </tr>\n",
       "    <tr>\n",
       "      <th>6282</th>\n",
       "      <td>2013-09-30</td>\n",
       "      <td>31_4249</td>\n",
       "      <td>7</td>\n",
       "      <td>31</td>\n",
       "      <td>23</td>\n",
       "      <td>4249</td>\n",
       "      <td>1199.000000</td>\n",
       "      <td>5.0</td>\n",
       "    </tr>\n",
       "    <tr>\n",
       "      <th>6359</th>\n",
       "      <td>2013-10-31</td>\n",
       "      <td>31_4249</td>\n",
       "      <td>7</td>\n",
       "      <td>31</td>\n",
       "      <td>23</td>\n",
       "      <td>4249</td>\n",
       "      <td>929.075000</td>\n",
       "      <td>4.0</td>\n",
       "    </tr>\n",
       "    <tr>\n",
       "      <th>6436</th>\n",
       "      <td>2013-11-30</td>\n",
       "      <td>31_4249</td>\n",
       "      <td>7</td>\n",
       "      <td>31</td>\n",
       "      <td>23</td>\n",
       "      <td>4249</td>\n",
       "      <td>1199.000000</td>\n",
       "      <td>5.0</td>\n",
       "    </tr>\n",
       "    <tr>\n",
       "      <th>6513</th>\n",
       "      <td>2013-12-31</td>\n",
       "      <td>31_4249</td>\n",
       "      <td>7</td>\n",
       "      <td>31</td>\n",
       "      <td>23</td>\n",
       "      <td>4249</td>\n",
       "      <td>1199.000000</td>\n",
       "      <td>6.0</td>\n",
       "    </tr>\n",
       "    <tr>\n",
       "      <th>6590</th>\n",
       "      <td>2014-01-31</td>\n",
       "      <td>31_4249</td>\n",
       "      <td>7</td>\n",
       "      <td>31</td>\n",
       "      <td>23</td>\n",
       "      <td>4249</td>\n",
       "      <td>1199.000000</td>\n",
       "      <td>12.0</td>\n",
       "    </tr>\n",
       "    <tr>\n",
       "      <th>6667</th>\n",
       "      <td>2014-02-28</td>\n",
       "      <td>31_4249</td>\n",
       "      <td>7</td>\n",
       "      <td>31</td>\n",
       "      <td>23</td>\n",
       "      <td>4249</td>\n",
       "      <td>1199.000000</td>\n",
       "      <td>7.0</td>\n",
       "    </tr>\n",
       "    <tr>\n",
       "      <th>6744</th>\n",
       "      <td>2014-03-31</td>\n",
       "      <td>31_4249</td>\n",
       "      <td>7</td>\n",
       "      <td>31</td>\n",
       "      <td>23</td>\n",
       "      <td>4249</td>\n",
       "      <td>965.670000</td>\n",
       "      <td>12.0</td>\n",
       "    </tr>\n",
       "    <tr>\n",
       "      <th>6821</th>\n",
       "      <td>2014-04-30</td>\n",
       "      <td>31_4249</td>\n",
       "      <td>7</td>\n",
       "      <td>31</td>\n",
       "      <td>23</td>\n",
       "      <td>4249</td>\n",
       "      <td>838.800000</td>\n",
       "      <td>3.0</td>\n",
       "    </tr>\n",
       "    <tr>\n",
       "      <th>6898</th>\n",
       "      <td>2014-05-31</td>\n",
       "      <td>31_4249</td>\n",
       "      <td>7</td>\n",
       "      <td>31</td>\n",
       "      <td>23</td>\n",
       "      <td>4249</td>\n",
       "      <td>839.100000</td>\n",
       "      <td>3.0</td>\n",
       "    </tr>\n",
       "    <tr>\n",
       "      <th>6975</th>\n",
       "      <td>2014-06-30</td>\n",
       "      <td>31_4249</td>\n",
       "      <td>7</td>\n",
       "      <td>31</td>\n",
       "      <td>23</td>\n",
       "      <td>4249</td>\n",
       "      <td>839.000000</td>\n",
       "      <td>3.0</td>\n",
       "    </tr>\n",
       "    <tr>\n",
       "      <th>7052</th>\n",
       "      <td>2014-07-31</td>\n",
       "      <td>31_4249</td>\n",
       "      <td>7</td>\n",
       "      <td>31</td>\n",
       "      <td>23</td>\n",
       "      <td>4249</td>\n",
       "      <td>NaN</td>\n",
       "      <td>0.0</td>\n",
       "    </tr>\n",
       "    <tr>\n",
       "      <th>7129</th>\n",
       "      <td>2014-08-31</td>\n",
       "      <td>31_4249</td>\n",
       "      <td>7</td>\n",
       "      <td>31</td>\n",
       "      <td>23</td>\n",
       "      <td>4249</td>\n",
       "      <td>930.561667</td>\n",
       "      <td>6.0</td>\n",
       "    </tr>\n",
       "    <tr>\n",
       "      <th>7206</th>\n",
       "      <td>2014-09-30</td>\n",
       "      <td>31_4249</td>\n",
       "      <td>7</td>\n",
       "      <td>31</td>\n",
       "      <td>23</td>\n",
       "      <td>4249</td>\n",
       "      <td>801.107500</td>\n",
       "      <td>4.0</td>\n",
       "    </tr>\n",
       "    <tr>\n",
       "      <th>7283</th>\n",
       "      <td>2014-10-31</td>\n",
       "      <td>31_4249</td>\n",
       "      <td>7</td>\n",
       "      <td>31</td>\n",
       "      <td>23</td>\n",
       "      <td>4249</td>\n",
       "      <td>1199.000000</td>\n",
       "      <td>2.0</td>\n",
       "    </tr>\n",
       "    <tr>\n",
       "      <th>7360</th>\n",
       "      <td>2014-11-30</td>\n",
       "      <td>31_4249</td>\n",
       "      <td>7</td>\n",
       "      <td>31</td>\n",
       "      <td>23</td>\n",
       "      <td>4249</td>\n",
       "      <td>774.281667</td>\n",
       "      <td>10.0</td>\n",
       "    </tr>\n",
       "    <tr>\n",
       "      <th>7437</th>\n",
       "      <td>2014-12-31</td>\n",
       "      <td>31_4249</td>\n",
       "      <td>7</td>\n",
       "      <td>31</td>\n",
       "      <td>23</td>\n",
       "      <td>4249</td>\n",
       "      <td>698.840303</td>\n",
       "      <td>19.0</td>\n",
       "    </tr>\n",
       "    <tr>\n",
       "      <th>7514</th>\n",
       "      <td>2015-01-31</td>\n",
       "      <td>31_4249</td>\n",
       "      <td>7</td>\n",
       "      <td>31</td>\n",
       "      <td>23</td>\n",
       "      <td>4249</td>\n",
       "      <td>928.543333</td>\n",
       "      <td>6.0</td>\n",
       "    </tr>\n",
       "    <tr>\n",
       "      <th>7591</th>\n",
       "      <td>2015-02-28</td>\n",
       "      <td>31_4249</td>\n",
       "      <td>7</td>\n",
       "      <td>31</td>\n",
       "      <td>23</td>\n",
       "      <td>4249</td>\n",
       "      <td>851.603333</td>\n",
       "      <td>7.0</td>\n",
       "    </tr>\n",
       "    <tr>\n",
       "      <th>7668</th>\n",
       "      <td>2015-03-31</td>\n",
       "      <td>31_4249</td>\n",
       "      <td>7</td>\n",
       "      <td>31</td>\n",
       "      <td>23</td>\n",
       "      <td>4249</td>\n",
       "      <td>898.813333</td>\n",
       "      <td>3.0</td>\n",
       "    </tr>\n",
       "    <tr>\n",
       "      <th>7745</th>\n",
       "      <td>2015-04-30</td>\n",
       "      <td>31_4249</td>\n",
       "      <td>7</td>\n",
       "      <td>31</td>\n",
       "      <td>23</td>\n",
       "      <td>4249</td>\n",
       "      <td>NaN</td>\n",
       "      <td>0.0</td>\n",
       "    </tr>\n",
       "    <tr>\n",
       "      <th>7822</th>\n",
       "      <td>2015-05-31</td>\n",
       "      <td>31_4249</td>\n",
       "      <td>7</td>\n",
       "      <td>31</td>\n",
       "      <td>23</td>\n",
       "      <td>4249</td>\n",
       "      <td>NaN</td>\n",
       "      <td>0.0</td>\n",
       "    </tr>\n",
       "    <tr>\n",
       "      <th>7899</th>\n",
       "      <td>2015-06-30</td>\n",
       "      <td>31_4249</td>\n",
       "      <td>7</td>\n",
       "      <td>31</td>\n",
       "      <td>23</td>\n",
       "      <td>4249</td>\n",
       "      <td>884.300000</td>\n",
       "      <td>3.0</td>\n",
       "    </tr>\n",
       "    <tr>\n",
       "      <th>7976</th>\n",
       "      <td>2015-07-31</td>\n",
       "      <td>31_4249</td>\n",
       "      <td>7</td>\n",
       "      <td>31</td>\n",
       "      <td>23</td>\n",
       "      <td>4249</td>\n",
       "      <td>1135.686667</td>\n",
       "      <td>3.0</td>\n",
       "    </tr>\n",
       "    <tr>\n",
       "      <th>8053</th>\n",
       "      <td>2015-08-31</td>\n",
       "      <td>31_4249</td>\n",
       "      <td>7</td>\n",
       "      <td>31</td>\n",
       "      <td>23</td>\n",
       "      <td>4249</td>\n",
       "      <td>1347.050000</td>\n",
       "      <td>3.0</td>\n",
       "    </tr>\n",
       "    <tr>\n",
       "      <th>8130</th>\n",
       "      <td>2015-09-30</td>\n",
       "      <td>31_4249</td>\n",
       "      <td>7</td>\n",
       "      <td>31</td>\n",
       "      <td>23</td>\n",
       "      <td>4249</td>\n",
       "      <td>901.280000</td>\n",
       "      <td>4.0</td>\n",
       "    </tr>\n",
       "    <tr>\n",
       "      <th>8207</th>\n",
       "      <td>2015-10-31</td>\n",
       "      <td>31_4249</td>\n",
       "      <td>7</td>\n",
       "      <td>31</td>\n",
       "      <td>23</td>\n",
       "      <td>4249</td>\n",
       "      <td>NaN</td>\n",
       "      <td>NaN</td>\n",
       "    </tr>\n",
       "  </tbody>\n",
       "</table>\n",
       "</div>"
      ],
      "text/plain": [
       "           date unique_id  city_id  shop_id  item_category_id  item_id  \\\n",
       "5666 2013-01-31   31_4249        7       31                23     4249   \n",
       "5743 2013-02-28   31_4249        7       31                23     4249   \n",
       "5820 2013-03-31   31_4249        7       31                23     4249   \n",
       "5897 2013-04-30   31_4249        7       31                23     4249   \n",
       "5974 2013-05-31   31_4249        7       31                23     4249   \n",
       "6051 2013-06-30   31_4249        7       31                23     4249   \n",
       "6128 2013-07-31   31_4249        7       31                23     4249   \n",
       "6205 2013-08-31   31_4249        7       31                23     4249   \n",
       "6282 2013-09-30   31_4249        7       31                23     4249   \n",
       "6359 2013-10-31   31_4249        7       31                23     4249   \n",
       "6436 2013-11-30   31_4249        7       31                23     4249   \n",
       "6513 2013-12-31   31_4249        7       31                23     4249   \n",
       "6590 2014-01-31   31_4249        7       31                23     4249   \n",
       "6667 2014-02-28   31_4249        7       31                23     4249   \n",
       "6744 2014-03-31   31_4249        7       31                23     4249   \n",
       "6821 2014-04-30   31_4249        7       31                23     4249   \n",
       "6898 2014-05-31   31_4249        7       31                23     4249   \n",
       "6975 2014-06-30   31_4249        7       31                23     4249   \n",
       "7052 2014-07-31   31_4249        7       31                23     4249   \n",
       "7129 2014-08-31   31_4249        7       31                23     4249   \n",
       "7206 2014-09-30   31_4249        7       31                23     4249   \n",
       "7283 2014-10-31   31_4249        7       31                23     4249   \n",
       "7360 2014-11-30   31_4249        7       31                23     4249   \n",
       "7437 2014-12-31   31_4249        7       31                23     4249   \n",
       "7514 2015-01-31   31_4249        7       31                23     4249   \n",
       "7591 2015-02-28   31_4249        7       31                23     4249   \n",
       "7668 2015-03-31   31_4249        7       31                23     4249   \n",
       "7745 2015-04-30   31_4249        7       31                23     4249   \n",
       "7822 2015-05-31   31_4249        7       31                23     4249   \n",
       "7899 2015-06-30   31_4249        7       31                23     4249   \n",
       "7976 2015-07-31   31_4249        7       31                23     4249   \n",
       "8053 2015-08-31   31_4249        7       31                23     4249   \n",
       "8130 2015-09-30   31_4249        7       31                23     4249   \n",
       "8207 2015-10-31   31_4249        7       31                23     4249   \n",
       "\n",
       "      monthly_average_price  monthly_sales  \n",
       "5666            1899.000000            2.0  \n",
       "5743            1599.000000            5.0  \n",
       "5820            1013.416000            6.0  \n",
       "5897            1598.900000           10.0  \n",
       "5974            1598.937500            8.0  \n",
       "6051            1599.000000            4.0  \n",
       "6128            1399.000000            4.0  \n",
       "6205            1599.000000            2.0  \n",
       "6282            1199.000000            5.0  \n",
       "6359             929.075000            4.0  \n",
       "6436            1199.000000            5.0  \n",
       "6513            1199.000000            6.0  \n",
       "6590            1199.000000           12.0  \n",
       "6667            1199.000000            7.0  \n",
       "6744             965.670000           12.0  \n",
       "6821             838.800000            3.0  \n",
       "6898             839.100000            3.0  \n",
       "6975             839.000000            3.0  \n",
       "7052                    NaN            0.0  \n",
       "7129             930.561667            6.0  \n",
       "7206             801.107500            4.0  \n",
       "7283            1199.000000            2.0  \n",
       "7360             774.281667           10.0  \n",
       "7437             698.840303           19.0  \n",
       "7514             928.543333            6.0  \n",
       "7591             851.603333            7.0  \n",
       "7668             898.813333            3.0  \n",
       "7745                    NaN            0.0  \n",
       "7822                    NaN            0.0  \n",
       "7899             884.300000            3.0  \n",
       "7976            1135.686667            3.0  \n",
       "8053            1347.050000            3.0  \n",
       "8130             901.280000            4.0  \n",
       "8207                    NaN            NaN  "
      ]
     },
     "execution_count": 12,
     "metadata": {},
     "output_type": "execute_result"
    }
   ],
   "source": [
    "df[df[\"unique_id\"] == sample_ts]"
   ]
  },
  {
   "cell_type": "code",
   "execution_count": 13,
   "id": "91edba2f",
   "metadata": {},
   "outputs": [],
   "source": [
    "df.fillna({\"monthly_sales\":0}, inplace = True)"
   ]
  },
  {
   "cell_type": "code",
   "execution_count": 14,
   "id": "9145d3e8",
   "metadata": {
    "execution": {
     "iopub.execute_input": "2022-12-25T18:21:22.327926Z",
     "iopub.status.busy": "2022-12-25T18:21:22.327075Z",
     "iopub.status.idle": "2022-12-25T18:21:22.417466Z",
     "shell.execute_reply": "2022-12-25T18:21:22.416411Z"
    },
    "papermill": {
     "duration": 0.116065,
     "end_time": "2022-12-25T18:21:22.420249",
     "exception": false,
     "start_time": "2022-12-25T18:21:22.304184",
     "status": "completed"
    },
    "tags": []
   },
   "outputs": [],
   "source": [
    "df[\"monthly_average_price\"] = df.groupby(\"unique_id\", group_keys = False)[\"monthly_average_price\"].apply(\n",
    "    lambda series: series.bfill().ffill()\n",
    ")"
   ]
  },
  {
   "cell_type": "code",
   "execution_count": 15,
   "id": "e7394811",
   "metadata": {},
   "outputs": [
    {
     "data": {
      "text/plain": [
       "date                     0\n",
       "unique_id                0\n",
       "city_id                  0\n",
       "shop_id                  0\n",
       "item_category_id         0\n",
       "item_id                  0\n",
       "monthly_average_price    0\n",
       "monthly_sales            0\n",
       "dtype: int64"
      ]
     },
     "execution_count": 15,
     "metadata": {},
     "output_type": "execute_result"
    }
   ],
   "source": [
    "df.isnull().sum()"
   ]
  },
  {
   "cell_type": "code",
   "execution_count": 16,
   "id": "635da804",
   "metadata": {},
   "outputs": [],
   "source": [
    "df.sort_values([\"unique_id\", \"date\"], ascending = True, inplace = True)"
   ]
  },
  {
   "cell_type": "code",
   "execution_count": 17,
   "id": "50ee0c2f",
   "metadata": {},
   "outputs": [
    {
     "data": {
      "text/html": [
       "<div>\n",
       "<style scoped>\n",
       "    .dataframe tbody tr th:only-of-type {\n",
       "        vertical-align: middle;\n",
       "    }\n",
       "\n",
       "    .dataframe tbody tr th {\n",
       "        vertical-align: top;\n",
       "    }\n",
       "\n",
       "    .dataframe thead th {\n",
       "        text-align: right;\n",
       "    }\n",
       "</style>\n",
       "<table border=\"1\" class=\"dataframe\">\n",
       "  <thead>\n",
       "    <tr style=\"text-align: right;\">\n",
       "      <th></th>\n",
       "      <th>date</th>\n",
       "      <th>unique_id</th>\n",
       "      <th>city_id</th>\n",
       "      <th>shop_id</th>\n",
       "      <th>item_category_id</th>\n",
       "      <th>item_id</th>\n",
       "      <th>monthly_average_price</th>\n",
       "      <th>monthly_sales</th>\n",
       "    </tr>\n",
       "  </thead>\n",
       "  <tbody>\n",
       "    <tr>\n",
       "      <th>5666</th>\n",
       "      <td>2013-01-31</td>\n",
       "      <td>31_4249</td>\n",
       "      <td>7</td>\n",
       "      <td>31</td>\n",
       "      <td>23</td>\n",
       "      <td>4249</td>\n",
       "      <td>1899.000000</td>\n",
       "      <td>2.0</td>\n",
       "    </tr>\n",
       "    <tr>\n",
       "      <th>5743</th>\n",
       "      <td>2013-02-28</td>\n",
       "      <td>31_4249</td>\n",
       "      <td>7</td>\n",
       "      <td>31</td>\n",
       "      <td>23</td>\n",
       "      <td>4249</td>\n",
       "      <td>1599.000000</td>\n",
       "      <td>5.0</td>\n",
       "    </tr>\n",
       "    <tr>\n",
       "      <th>5820</th>\n",
       "      <td>2013-03-31</td>\n",
       "      <td>31_4249</td>\n",
       "      <td>7</td>\n",
       "      <td>31</td>\n",
       "      <td>23</td>\n",
       "      <td>4249</td>\n",
       "      <td>1013.416000</td>\n",
       "      <td>6.0</td>\n",
       "    </tr>\n",
       "    <tr>\n",
       "      <th>5897</th>\n",
       "      <td>2013-04-30</td>\n",
       "      <td>31_4249</td>\n",
       "      <td>7</td>\n",
       "      <td>31</td>\n",
       "      <td>23</td>\n",
       "      <td>4249</td>\n",
       "      <td>1598.900000</td>\n",
       "      <td>10.0</td>\n",
       "    </tr>\n",
       "    <tr>\n",
       "      <th>5974</th>\n",
       "      <td>2013-05-31</td>\n",
       "      <td>31_4249</td>\n",
       "      <td>7</td>\n",
       "      <td>31</td>\n",
       "      <td>23</td>\n",
       "      <td>4249</td>\n",
       "      <td>1598.937500</td>\n",
       "      <td>8.0</td>\n",
       "    </tr>\n",
       "    <tr>\n",
       "      <th>6051</th>\n",
       "      <td>2013-06-30</td>\n",
       "      <td>31_4249</td>\n",
       "      <td>7</td>\n",
       "      <td>31</td>\n",
       "      <td>23</td>\n",
       "      <td>4249</td>\n",
       "      <td>1599.000000</td>\n",
       "      <td>4.0</td>\n",
       "    </tr>\n",
       "    <tr>\n",
       "      <th>6128</th>\n",
       "      <td>2013-07-31</td>\n",
       "      <td>31_4249</td>\n",
       "      <td>7</td>\n",
       "      <td>31</td>\n",
       "      <td>23</td>\n",
       "      <td>4249</td>\n",
       "      <td>1399.000000</td>\n",
       "      <td>4.0</td>\n",
       "    </tr>\n",
       "    <tr>\n",
       "      <th>6205</th>\n",
       "      <td>2013-08-31</td>\n",
       "      <td>31_4249</td>\n",
       "      <td>7</td>\n",
       "      <td>31</td>\n",
       "      <td>23</td>\n",
       "      <td>4249</td>\n",
       "      <td>1599.000000</td>\n",
       "      <td>2.0</td>\n",
       "    </tr>\n",
       "    <tr>\n",
       "      <th>6282</th>\n",
       "      <td>2013-09-30</td>\n",
       "      <td>31_4249</td>\n",
       "      <td>7</td>\n",
       "      <td>31</td>\n",
       "      <td>23</td>\n",
       "      <td>4249</td>\n",
       "      <td>1199.000000</td>\n",
       "      <td>5.0</td>\n",
       "    </tr>\n",
       "    <tr>\n",
       "      <th>6359</th>\n",
       "      <td>2013-10-31</td>\n",
       "      <td>31_4249</td>\n",
       "      <td>7</td>\n",
       "      <td>31</td>\n",
       "      <td>23</td>\n",
       "      <td>4249</td>\n",
       "      <td>929.075000</td>\n",
       "      <td>4.0</td>\n",
       "    </tr>\n",
       "    <tr>\n",
       "      <th>6436</th>\n",
       "      <td>2013-11-30</td>\n",
       "      <td>31_4249</td>\n",
       "      <td>7</td>\n",
       "      <td>31</td>\n",
       "      <td>23</td>\n",
       "      <td>4249</td>\n",
       "      <td>1199.000000</td>\n",
       "      <td>5.0</td>\n",
       "    </tr>\n",
       "    <tr>\n",
       "      <th>6513</th>\n",
       "      <td>2013-12-31</td>\n",
       "      <td>31_4249</td>\n",
       "      <td>7</td>\n",
       "      <td>31</td>\n",
       "      <td>23</td>\n",
       "      <td>4249</td>\n",
       "      <td>1199.000000</td>\n",
       "      <td>6.0</td>\n",
       "    </tr>\n",
       "    <tr>\n",
       "      <th>6590</th>\n",
       "      <td>2014-01-31</td>\n",
       "      <td>31_4249</td>\n",
       "      <td>7</td>\n",
       "      <td>31</td>\n",
       "      <td>23</td>\n",
       "      <td>4249</td>\n",
       "      <td>1199.000000</td>\n",
       "      <td>12.0</td>\n",
       "    </tr>\n",
       "    <tr>\n",
       "      <th>6667</th>\n",
       "      <td>2014-02-28</td>\n",
       "      <td>31_4249</td>\n",
       "      <td>7</td>\n",
       "      <td>31</td>\n",
       "      <td>23</td>\n",
       "      <td>4249</td>\n",
       "      <td>1199.000000</td>\n",
       "      <td>7.0</td>\n",
       "    </tr>\n",
       "    <tr>\n",
       "      <th>6744</th>\n",
       "      <td>2014-03-31</td>\n",
       "      <td>31_4249</td>\n",
       "      <td>7</td>\n",
       "      <td>31</td>\n",
       "      <td>23</td>\n",
       "      <td>4249</td>\n",
       "      <td>965.670000</td>\n",
       "      <td>12.0</td>\n",
       "    </tr>\n",
       "    <tr>\n",
       "      <th>6821</th>\n",
       "      <td>2014-04-30</td>\n",
       "      <td>31_4249</td>\n",
       "      <td>7</td>\n",
       "      <td>31</td>\n",
       "      <td>23</td>\n",
       "      <td>4249</td>\n",
       "      <td>838.800000</td>\n",
       "      <td>3.0</td>\n",
       "    </tr>\n",
       "    <tr>\n",
       "      <th>6898</th>\n",
       "      <td>2014-05-31</td>\n",
       "      <td>31_4249</td>\n",
       "      <td>7</td>\n",
       "      <td>31</td>\n",
       "      <td>23</td>\n",
       "      <td>4249</td>\n",
       "      <td>839.100000</td>\n",
       "      <td>3.0</td>\n",
       "    </tr>\n",
       "    <tr>\n",
       "      <th>6975</th>\n",
       "      <td>2014-06-30</td>\n",
       "      <td>31_4249</td>\n",
       "      <td>7</td>\n",
       "      <td>31</td>\n",
       "      <td>23</td>\n",
       "      <td>4249</td>\n",
       "      <td>839.000000</td>\n",
       "      <td>3.0</td>\n",
       "    </tr>\n",
       "    <tr>\n",
       "      <th>7052</th>\n",
       "      <td>2014-07-31</td>\n",
       "      <td>31_4249</td>\n",
       "      <td>7</td>\n",
       "      <td>31</td>\n",
       "      <td>23</td>\n",
       "      <td>4249</td>\n",
       "      <td>930.561667</td>\n",
       "      <td>0.0</td>\n",
       "    </tr>\n",
       "    <tr>\n",
       "      <th>7129</th>\n",
       "      <td>2014-08-31</td>\n",
       "      <td>31_4249</td>\n",
       "      <td>7</td>\n",
       "      <td>31</td>\n",
       "      <td>23</td>\n",
       "      <td>4249</td>\n",
       "      <td>930.561667</td>\n",
       "      <td>6.0</td>\n",
       "    </tr>\n",
       "    <tr>\n",
       "      <th>7206</th>\n",
       "      <td>2014-09-30</td>\n",
       "      <td>31_4249</td>\n",
       "      <td>7</td>\n",
       "      <td>31</td>\n",
       "      <td>23</td>\n",
       "      <td>4249</td>\n",
       "      <td>801.107500</td>\n",
       "      <td>4.0</td>\n",
       "    </tr>\n",
       "    <tr>\n",
       "      <th>7283</th>\n",
       "      <td>2014-10-31</td>\n",
       "      <td>31_4249</td>\n",
       "      <td>7</td>\n",
       "      <td>31</td>\n",
       "      <td>23</td>\n",
       "      <td>4249</td>\n",
       "      <td>1199.000000</td>\n",
       "      <td>2.0</td>\n",
       "    </tr>\n",
       "    <tr>\n",
       "      <th>7360</th>\n",
       "      <td>2014-11-30</td>\n",
       "      <td>31_4249</td>\n",
       "      <td>7</td>\n",
       "      <td>31</td>\n",
       "      <td>23</td>\n",
       "      <td>4249</td>\n",
       "      <td>774.281667</td>\n",
       "      <td>10.0</td>\n",
       "    </tr>\n",
       "    <tr>\n",
       "      <th>7437</th>\n",
       "      <td>2014-12-31</td>\n",
       "      <td>31_4249</td>\n",
       "      <td>7</td>\n",
       "      <td>31</td>\n",
       "      <td>23</td>\n",
       "      <td>4249</td>\n",
       "      <td>698.840303</td>\n",
       "      <td>19.0</td>\n",
       "    </tr>\n",
       "    <tr>\n",
       "      <th>7514</th>\n",
       "      <td>2015-01-31</td>\n",
       "      <td>31_4249</td>\n",
       "      <td>7</td>\n",
       "      <td>31</td>\n",
       "      <td>23</td>\n",
       "      <td>4249</td>\n",
       "      <td>928.543333</td>\n",
       "      <td>6.0</td>\n",
       "    </tr>\n",
       "    <tr>\n",
       "      <th>7591</th>\n",
       "      <td>2015-02-28</td>\n",
       "      <td>31_4249</td>\n",
       "      <td>7</td>\n",
       "      <td>31</td>\n",
       "      <td>23</td>\n",
       "      <td>4249</td>\n",
       "      <td>851.603333</td>\n",
       "      <td>7.0</td>\n",
       "    </tr>\n",
       "    <tr>\n",
       "      <th>7668</th>\n",
       "      <td>2015-03-31</td>\n",
       "      <td>31_4249</td>\n",
       "      <td>7</td>\n",
       "      <td>31</td>\n",
       "      <td>23</td>\n",
       "      <td>4249</td>\n",
       "      <td>898.813333</td>\n",
       "      <td>3.0</td>\n",
       "    </tr>\n",
       "    <tr>\n",
       "      <th>7745</th>\n",
       "      <td>2015-04-30</td>\n",
       "      <td>31_4249</td>\n",
       "      <td>7</td>\n",
       "      <td>31</td>\n",
       "      <td>23</td>\n",
       "      <td>4249</td>\n",
       "      <td>884.300000</td>\n",
       "      <td>0.0</td>\n",
       "    </tr>\n",
       "    <tr>\n",
       "      <th>7822</th>\n",
       "      <td>2015-05-31</td>\n",
       "      <td>31_4249</td>\n",
       "      <td>7</td>\n",
       "      <td>31</td>\n",
       "      <td>23</td>\n",
       "      <td>4249</td>\n",
       "      <td>884.300000</td>\n",
       "      <td>0.0</td>\n",
       "    </tr>\n",
       "    <tr>\n",
       "      <th>7899</th>\n",
       "      <td>2015-06-30</td>\n",
       "      <td>31_4249</td>\n",
       "      <td>7</td>\n",
       "      <td>31</td>\n",
       "      <td>23</td>\n",
       "      <td>4249</td>\n",
       "      <td>884.300000</td>\n",
       "      <td>3.0</td>\n",
       "    </tr>\n",
       "    <tr>\n",
       "      <th>7976</th>\n",
       "      <td>2015-07-31</td>\n",
       "      <td>31_4249</td>\n",
       "      <td>7</td>\n",
       "      <td>31</td>\n",
       "      <td>23</td>\n",
       "      <td>4249</td>\n",
       "      <td>1135.686667</td>\n",
       "      <td>3.0</td>\n",
       "    </tr>\n",
       "    <tr>\n",
       "      <th>8053</th>\n",
       "      <td>2015-08-31</td>\n",
       "      <td>31_4249</td>\n",
       "      <td>7</td>\n",
       "      <td>31</td>\n",
       "      <td>23</td>\n",
       "      <td>4249</td>\n",
       "      <td>1347.050000</td>\n",
       "      <td>3.0</td>\n",
       "    </tr>\n",
       "    <tr>\n",
       "      <th>8130</th>\n",
       "      <td>2015-09-30</td>\n",
       "      <td>31_4249</td>\n",
       "      <td>7</td>\n",
       "      <td>31</td>\n",
       "      <td>23</td>\n",
       "      <td>4249</td>\n",
       "      <td>901.280000</td>\n",
       "      <td>4.0</td>\n",
       "    </tr>\n",
       "    <tr>\n",
       "      <th>8207</th>\n",
       "      <td>2015-10-31</td>\n",
       "      <td>31_4249</td>\n",
       "      <td>7</td>\n",
       "      <td>31</td>\n",
       "      <td>23</td>\n",
       "      <td>4249</td>\n",
       "      <td>901.280000</td>\n",
       "      <td>0.0</td>\n",
       "    </tr>\n",
       "  </tbody>\n",
       "</table>\n",
       "</div>"
      ],
      "text/plain": [
       "           date unique_id  city_id  shop_id  item_category_id  item_id  \\\n",
       "5666 2013-01-31   31_4249        7       31                23     4249   \n",
       "5743 2013-02-28   31_4249        7       31                23     4249   \n",
       "5820 2013-03-31   31_4249        7       31                23     4249   \n",
       "5897 2013-04-30   31_4249        7       31                23     4249   \n",
       "5974 2013-05-31   31_4249        7       31                23     4249   \n",
       "6051 2013-06-30   31_4249        7       31                23     4249   \n",
       "6128 2013-07-31   31_4249        7       31                23     4249   \n",
       "6205 2013-08-31   31_4249        7       31                23     4249   \n",
       "6282 2013-09-30   31_4249        7       31                23     4249   \n",
       "6359 2013-10-31   31_4249        7       31                23     4249   \n",
       "6436 2013-11-30   31_4249        7       31                23     4249   \n",
       "6513 2013-12-31   31_4249        7       31                23     4249   \n",
       "6590 2014-01-31   31_4249        7       31                23     4249   \n",
       "6667 2014-02-28   31_4249        7       31                23     4249   \n",
       "6744 2014-03-31   31_4249        7       31                23     4249   \n",
       "6821 2014-04-30   31_4249        7       31                23     4249   \n",
       "6898 2014-05-31   31_4249        7       31                23     4249   \n",
       "6975 2014-06-30   31_4249        7       31                23     4249   \n",
       "7052 2014-07-31   31_4249        7       31                23     4249   \n",
       "7129 2014-08-31   31_4249        7       31                23     4249   \n",
       "7206 2014-09-30   31_4249        7       31                23     4249   \n",
       "7283 2014-10-31   31_4249        7       31                23     4249   \n",
       "7360 2014-11-30   31_4249        7       31                23     4249   \n",
       "7437 2014-12-31   31_4249        7       31                23     4249   \n",
       "7514 2015-01-31   31_4249        7       31                23     4249   \n",
       "7591 2015-02-28   31_4249        7       31                23     4249   \n",
       "7668 2015-03-31   31_4249        7       31                23     4249   \n",
       "7745 2015-04-30   31_4249        7       31                23     4249   \n",
       "7822 2015-05-31   31_4249        7       31                23     4249   \n",
       "7899 2015-06-30   31_4249        7       31                23     4249   \n",
       "7976 2015-07-31   31_4249        7       31                23     4249   \n",
       "8053 2015-08-31   31_4249        7       31                23     4249   \n",
       "8130 2015-09-30   31_4249        7       31                23     4249   \n",
       "8207 2015-10-31   31_4249        7       31                23     4249   \n",
       "\n",
       "      monthly_average_price  monthly_sales  \n",
       "5666            1899.000000            2.0  \n",
       "5743            1599.000000            5.0  \n",
       "5820            1013.416000            6.0  \n",
       "5897            1598.900000           10.0  \n",
       "5974            1598.937500            8.0  \n",
       "6051            1599.000000            4.0  \n",
       "6128            1399.000000            4.0  \n",
       "6205            1599.000000            2.0  \n",
       "6282            1199.000000            5.0  \n",
       "6359             929.075000            4.0  \n",
       "6436            1199.000000            5.0  \n",
       "6513            1199.000000            6.0  \n",
       "6590            1199.000000           12.0  \n",
       "6667            1199.000000            7.0  \n",
       "6744             965.670000           12.0  \n",
       "6821             838.800000            3.0  \n",
       "6898             839.100000            3.0  \n",
       "6975             839.000000            3.0  \n",
       "7052             930.561667            0.0  \n",
       "7129             930.561667            6.0  \n",
       "7206             801.107500            4.0  \n",
       "7283            1199.000000            2.0  \n",
       "7360             774.281667           10.0  \n",
       "7437             698.840303           19.0  \n",
       "7514             928.543333            6.0  \n",
       "7591             851.603333            7.0  \n",
       "7668             898.813333            3.0  \n",
       "7745             884.300000            0.0  \n",
       "7822             884.300000            0.0  \n",
       "7899             884.300000            3.0  \n",
       "7976            1135.686667            3.0  \n",
       "8053            1347.050000            3.0  \n",
       "8130             901.280000            4.0  \n",
       "8207             901.280000            0.0  "
      ]
     },
     "execution_count": 17,
     "metadata": {},
     "output_type": "execute_result"
    }
   ],
   "source": [
    "df[df[\"unique_id\"] == sample_ts]"
   ]
  },
  {
   "cell_type": "markdown",
   "id": "ed947083",
   "metadata": {
    "papermill": {
     "duration": 0.022323,
     "end_time": "2022-12-25T18:21:22.521653",
     "exception": false,
     "start_time": "2022-12-25T18:21:22.499330",
     "status": "completed"
    },
    "tags": []
   },
   "source": [
    "<a id='eda'></a>\n",
    "### EDA\n",
    "[Volver al índice](#index)<br>"
   ]
  },
  {
   "cell_type": "markdown",
   "id": "f758be61",
   "metadata": {
    "papermill": {
     "duration": 0.022127,
     "end_time": "2022-12-25T18:21:22.566039",
     "exception": false,
     "start_time": "2022-12-25T18:21:22.543912",
     "status": "completed"
    },
    "tags": []
   },
   "source": [
    "Vamos a hacer un EDA rápido para ver como son nuestras Series Temporales y coger algunas ideas para futuras variables que vamos a implementar.\n",
    "\n",
    "Al tratarse este notebook del benchmark, vamos a explorar de manera muy superficial el dataset. En posteriores ejecuciones analizaremos el dataset en más detalle, construiremos nuevas variables y volveremos a entrenar nuestro modelo."
   ]
  },
  {
   "cell_type": "markdown",
   "id": "174a4652",
   "metadata": {
    "papermill": {
     "duration": 0.021998,
     "end_time": "2022-12-25T18:21:22.610614",
     "exception": false,
     "start_time": "2022-12-25T18:21:22.588616",
     "status": "completed"
    },
    "tags": []
   },
   "source": [
    "<a id='eda_global_sales'></a>\n",
    "### --> 1. EDA: Global Sales\n",
    "[Volver al índice](#index)<br>"
   ]
  },
  {
   "cell_type": "code",
   "execution_count": 18,
   "id": "1c3e636b",
   "metadata": {
    "execution": {
     "iopub.execute_input": "2022-12-25T18:21:22.656720Z",
     "iopub.status.busy": "2022-12-25T18:21:22.656066Z",
     "iopub.status.idle": "2022-12-25T18:21:22.662079Z",
     "shell.execute_reply": "2022-12-25T18:21:22.661146Z"
    },
    "papermill": {
     "duration": 0.032195,
     "end_time": "2022-12-25T18:21:22.664784",
     "exception": false,
     "start_time": "2022-12-25T18:21:22.632589",
     "status": "completed"
    },
    "tags": []
   },
   "outputs": [],
   "source": [
    "def plot_ts_acf_pacf(y, title):\n",
    "    '''\n",
    "    Plots the ts you pass and the acf and pacf.\n",
    "    '''\n",
    "    fig = plt.figure(figsize = (12, 10))\n",
    "    ax1, ax2, ax3 = fig.subplots(3, 1)\n",
    "\n",
    "    ax1.plot(y)\n",
    "    plot_acf(x = y, ax = ax2, lags = 14)\n",
    "    plot_pacf(x = y, ax = ax3, lags = 14)\n",
    "\n",
    "    plt.suptitle(t = title, fontsize = 20)"
   ]
  },
  {
   "cell_type": "code",
   "execution_count": 19,
   "id": "893fadf9",
   "metadata": {
    "execution": {
     "iopub.execute_input": "2022-12-25T18:21:22.712487Z",
     "iopub.status.busy": "2022-12-25T18:21:22.712069Z",
     "iopub.status.idle": "2022-12-25T18:21:22.723617Z",
     "shell.execute_reply": "2022-12-25T18:21:22.722839Z"
    },
    "papermill": {
     "duration": 0.038389,
     "end_time": "2022-12-25T18:21:22.726176",
     "exception": false,
     "start_time": "2022-12-25T18:21:22.687787",
     "status": "completed"
    },
    "tags": []
   },
   "outputs": [],
   "source": [
    "y = df.set_index(\"date\").resample(\"ME\")[\"monthly_sales\"].sum()[:-1] # quitamos los registros de octubre"
   ]
  },
  {
   "cell_type": "code",
   "execution_count": 20,
   "id": "d92427cf",
   "metadata": {
    "execution": {
     "iopub.execute_input": "2022-12-25T18:21:22.774894Z",
     "iopub.status.busy": "2022-12-25T18:21:22.774238Z",
     "iopub.status.idle": "2022-12-25T18:21:23.383135Z",
     "shell.execute_reply": "2022-12-25T18:21:23.382008Z"
    },
    "papermill": {
     "duration": 0.635484,
     "end_time": "2022-12-25T18:21:23.385591",
     "exception": false,
     "start_time": "2022-12-25T18:21:22.750107",
     "status": "completed"
    },
    "tags": []
   },
   "outputs": [
    {
     "data": {
      "image/png": "[encoded data removed]",
      "text/plain": [
       "<Figure size 1200x1000 with 3 Axes>"
      ]
     },
     "metadata": {},
     "output_type": "display_data"
    }
   ],
   "source": [
    "plot_ts_acf_pacf(y = y, title = \"Monthly Sales for all items in all shops\");"
   ]
  },
  {
   "cell_type": "markdown",
   "id": "aca9a268",
   "metadata": {
    "papermill": {
     "duration": 0.022782,
     "end_time": "2022-12-25T18:21:23.431783",
     "exception": false,
     "start_time": "2022-12-25T18:21:23.409001",
     "status": "completed"
    },
    "tags": []
   },
   "source": [
    "Nota importante: nos estamos ayudando del gráfico de acf y pacf, pero no vamos a entrenar un modelo ARIMA.\n",
    "\n",
    "Para resolver el problema que se nos plantea: más de 400 Series Temporales diferentes tendríamos que entrenar 400 ARIMAs (1 modelo por Serie Temporal). En cambio, con el algoritmo de XGBoost podríamos entrenar 1 único modelo.\n",
    "\n",
    "Ahora bien, al contrario que ARIMA (que internamente construye las variables necesarias), para XGBoost debemos ser explícitos y suministrarle todas y cada una de las variables necesarias.\n",
    "\n",
    "Del gráfico anterior ya podemos observar que las variables de lags pueden ser muy relevantes.\n",
    "\n",
    "IDEA para los alumnos: podéis intentar analizar algunas de las 400 Series Temporales de manera individual para ver su comportamiento."
   ]
  },
  {
   "cell_type": "markdown",
   "id": "15714f34",
   "metadata": {
    "papermill": {
     "duration": 0.023211,
     "end_time": "2022-12-25T18:21:23.477649",
     "exception": false,
     "start_time": "2022-12-25T18:21:23.454438",
     "status": "completed"
    },
    "tags": []
   },
   "source": [
    "<a id='eda_top_3_cities'></a>\n",
    "### --> 2. EDA: Top 3 Cities\n",
    "[Volver al índice](#index)<br>"
   ]
  },
  {
   "cell_type": "code",
   "execution_count": 21,
   "id": "6611fd72",
   "metadata": {
    "execution": {
     "iopub.execute_input": "2022-12-25T18:21:23.525896Z",
     "iopub.status.busy": "2022-12-25T18:21:23.524827Z",
     "iopub.status.idle": "2022-12-25T18:21:23.897855Z",
     "shell.execute_reply": "2022-12-25T18:21:23.896617Z"
    },
    "papermill": {
     "duration": 0.399549,
     "end_time": "2022-12-25T18:21:23.900442",
     "exception": false,
     "start_time": "2022-12-25T18:21:23.500893",
     "status": "completed"
    },
    "tags": []
   },
   "outputs": [
    {
     "data": {
      "image/png": "[encoded data removed]",
      "text/plain": [
       "<Figure size 1200x400 with 1 Axes>"
      ]
     },
     "metadata": {},
     "output_type": "display_data"
    }
   ],
   "source": [
    "(\n",
    "    df.\n",
    "    groupby([\"city_id\"])\n",
    "    [\"monthly_sales\"].sum()\n",
    "    .sort_values(ascending = False)\n",
    "    .plot(kind = \"bar\", figsize = (12, 4))\n",
    ");"
   ]
  },
  {
   "cell_type": "markdown",
   "id": "feacc799",
   "metadata": {
    "papermill": {
     "duration": 0.023796,
     "end_time": "2022-12-25T18:21:23.948538",
     "exception": false,
     "start_time": "2022-12-25T18:21:23.924742",
     "status": "completed"
    },
    "tags": []
   },
   "source": [
    "<a id='eda_top_3_categories'></a>\n",
    "### --> 3. EDA: Top 3 Categories\n",
    "[Volver al índice](#index)<br>"
   ]
  },
  {
   "cell_type": "code",
   "execution_count": 22,
   "id": "e7717408",
   "metadata": {
    "execution": {
     "iopub.execute_input": "2022-12-25T18:21:23.998475Z",
     "iopub.status.busy": "2022-12-25T18:21:23.998043Z",
     "iopub.status.idle": "2022-12-25T18:21:24.451295Z",
     "shell.execute_reply": "2022-12-25T18:21:24.449986Z"
    },
    "papermill": {
     "duration": 0.481244,
     "end_time": "2022-12-25T18:21:24.453930",
     "exception": false,
     "start_time": "2022-12-25T18:21:23.972686",
     "status": "completed"
    },
    "tags": []
   },
   "outputs": [
    {
     "data": {
      "image/png": "[encoded data removed]",
      "text/plain": [
       "<Figure size 1200x400 with 1 Axes>"
      ]
     },
     "metadata": {},
     "output_type": "display_data"
    }
   ],
   "source": [
    "(\n",
    "    df.\n",
    "    groupby([\"item_category_id\"])\n",
    "    [\"monthly_sales\"].sum()\n",
    "    .sort_values(ascending = False)\n",
    "    .plot(kind = \"bar\", figsize = (12, 4))\n",
    ");"
   ]
  },
  {
   "cell_type": "markdown",
   "id": "540eb593",
   "metadata": {},
   "source": [
    "# Preguntas Cuestionario"
   ]
  },
  {
   "cell_type": "markdown",
   "id": "fd576a42",
   "metadata": {},
   "source": [
    "Saber el Mes con el mayor número de ventas (todos los artículos)"
   ]
  },
  {
   "cell_type": "code",
   "execution_count": 23,
   "id": "d42399f0",
   "metadata": {},
   "outputs": [
    {
     "data": {
      "text/plain": [
       "(Period('2014-12', 'M'), 4874.0)"
      ]
     },
     "execution_count": 23,
     "metadata": {},
     "output_type": "execute_result"
    }
   ],
   "source": [
    "# Aggregate monthly sales to find the month with the highest sales\n",
    "monthly_sales = df.groupby(df['date'].dt.to_period('M'))['monthly_sales'].sum()\n",
    "\n",
    "# Find the month with the highest sales\n",
    "max_sales_month = monthly_sales.idxmax()\n",
    "max_sales_value = monthly_sales.max()\n",
    "\n",
    "max_sales_month, max_sales_value"
   ]
  },
  {
   "cell_type": "markdown",
   "id": "88790ff5",
   "metadata": {},
   "source": [
    "El id de la ciudad con las mayores ventas"
   ]
  },
  {
   "cell_type": "code",
   "execution_count": 24,
   "id": "7e9dac63",
   "metadata": {},
   "outputs": [
    {
     "data": {
      "text/plain": [
       "(7, 41360.0)"
      ]
     },
     "execution_count": 24,
     "metadata": {},
     "output_type": "execute_result"
    }
   ],
   "source": [
    "# Aggregate sales by city to find the city with the highest sales\n",
    "city_ventas = df.groupby('city_id')['monthly_sales'].sum()\n",
    "\n",
    "# Find the city with the highest sales\n",
    "max_ventas_city_id = city_ventas.idxmax()\n",
    "max_ventas_city_value = city_ventas.max()\n",
    "\n",
    "max_ventas_city_id, max_ventas_city_value"
   ]
  },
  {
   "cell_type": "markdown",
   "id": "ca029c7b",
   "metadata": {},
   "source": [
    "El id de la categoría con los mayores ingresos en el mes de Septiembre-2015 "
   ]
  },
  {
   "cell_type": "code",
   "execution_count": 25,
   "id": "6659e24c",
   "metadata": {},
   "outputs": [
    {
     "name": "stderr",
     "output_type": "stream",
     "text": [
      "C:\\Users\\Herre\\AppData\\Local\\Temp\\ipykernel_27848\\3074180324.py:5: SettingWithCopyWarning: \n",
      "A value is trying to be set on a copy of a slice from a DataFrame.\n",
      "Try using .loc[row_indexer,col_indexer] = value instead\n",
      "\n",
      "See the caveats in the documentation: https://pandas.pydata.org/pandas-docs/stable/user_guide/indexing.html#returning-a-view-versus-a-copy\n",
      "  septiembre_2015_data['revenue'] = septiembre_2015_data['monthly_average_price'] * septiembre_2015_data['monthly_sales']\n"
     ]
    },
    {
     "data": {
      "text/plain": [
       "(35, 825643.7285714286)"
      ]
     },
     "execution_count": 25,
     "metadata": {},
     "output_type": "execute_result"
    }
   ],
   "source": [
    "# Filter the data for September 2015\n",
    "septiembre_2015_data = df[(df['date'].dt.year == 2015) & (df['date'].dt.month == 9)]\n",
    "\n",
    "# Calculate the total revenue per category for September 2015\n",
    "septiembre_2015_data['revenue'] = septiembre_2015_data['monthly_average_price'] * septiembre_2015_data['monthly_sales']\n",
    "category_revenue_september_2015 = septiembre_2015_data.groupby('item_category_id')['revenue'].sum()\n",
    "\n",
    "# Find the category with the highest revenue\n",
    "max_revenue_category_id = category_revenue_september_2015.idxmax()\n",
    "max_revenue_value = category_revenue_september_2015.max()\n",
    "\n",
    "max_revenue_category_id, max_revenue_value\n"
   ]
  },
  {
   "cell_type": "markdown",
   "id": "08912849",
   "metadata": {},
   "source": [
    "El id de la categoría que tiene mayor número de item_id diferentes"
   ]
  },
  {
   "cell_type": "code",
   "execution_count": 26,
   "id": "ae91adeb",
   "metadata": {},
   "outputs": [
    {
     "data": {
      "text/plain": [
       "(40, 24)"
      ]
     },
     "execution_count": 26,
     "metadata": {},
     "output_type": "execute_result"
    }
   ],
   "source": [
    "# Count the number of unique item_id per category\n",
    "unique_items_per_category = df.groupby('item_category_id')['item_id'].nunique()\n",
    "\n",
    "# Find the category with the highest number of unique item_id\n",
    "max_unique_items_category_id = unique_items_per_category.idxmax()\n",
    "max_unique_items_count = unique_items_per_category.max()\n",
    "\n",
    "max_unique_items_category_id, max_unique_items_count"
   ]
  },
  {
   "cell_type": "markdown",
   "id": "e4d33dda",
   "metadata": {},
   "source": [
    "La media móvil de 3 meses (de todas las ventas) corresponde al mes de:"
   ]
  },
  {
   "cell_type": "code",
   "execution_count": 27,
   "id": "d397ecfb",
   "metadata": {},
   "outputs": [
    {
     "data": {
      "text/plain": [
       "(2434.3333333333335, Period('2013-02', 'M'), 2218.0)"
      ]
     },
     "execution_count": 27,
     "metadata": {},
     "output_type": "execute_result"
    }
   ],
   "source": [
    "# Calculate the total monthly sales\n",
    "monthly_sales_total = df.groupby(df['date'].dt.to_period('M'))['monthly_sales'].sum()\n",
    "\n",
    "# Calculate the 3-month moving average\n",
    "three_month_moving_average = monthly_sales_total.rolling(window=3).mean()\n",
    "\n",
    "# Find the value for the specific date\n",
    "moving_average_value = three_month_moving_average.loc['2013-03']\n",
    "\n",
    "# Get the date and value of the second month in the dataset\n",
    "second_month = monthly_sales_total.index[1]\n",
    "second_month_value = monthly_sales_total.iloc[1]\n",
    "\n",
    "moving_average_value, second_month, second_month_value"
   ]
  }
 ],
 "metadata": {
  "kernelspec": {
   "display_name": "entornoGPU",
   "language": "python",
   "name": "entornogpu"
  },
  "language_info": {
   "codemirror_mode": {
    "name": "ipython",
    "version": 3
   },
   "file_extension": ".py",
   "mimetype": "text/x-python",
   "name": "python",
   "nbconvert_exporter": "python",
   "pygments_lexer": "ipython3",
   "version": "3.12.4"
  },
  "papermill": {
   "default_parameters": {},
   "duration": 23.57855,
   "end_time": "2022-12-25T18:21:28.344030",
   "environment_variables": {},
   "exception": null,
   "input_path": "__notebook__.ipynb",
   "output_path": "__notebook__.ipynb",
   "parameters": {},
   "start_time": "2022-12-25T18:21:04.765480",
   "version": "2.3.4"
  }
 },
 "nbformat": 4,
 "nbformat_minor": 5
}
